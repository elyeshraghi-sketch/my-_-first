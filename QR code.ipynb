{
 "cells": [
  {
   "cell_type": "code",
   "execution_count": 1,
   "metadata": {},
   "outputs": [
    {
     "name": "stdout",
     "output_type": "stream",
     "text": [
      "سلام مطلب داخل QR code چی باشه؟\n"
     ]
    }
   ],
   "source": [
    "import qrcode\n",
    "print(\"سلام مطلب داخل QR code چی باشه؟\")\n",
    "data = input(\"Why QR code?\")\n",
    "qr = qrcode.QRCode(\n",
    "    version=2,\n",
    "    error_correction=qrcode.constants.ERROR_CORRECT_L,  \n",
    "    box_size=10,  \n",
    "    border=4,  \n",
    ")\n",
    "qr.add_data(data)\n",
    "qr.make(fit=True)\n",
    "img = qr.make_image(fill='black', back_color='white')\n",
    "img.save(\"qrcode.png\")\n",
    "token = \"7538408932:AAFjCUhdIRh-Vh8nfR6eeu5rgmTlaRCHvFk\"\n"
   ]
  }
 ],
 "metadata": {
  "kernelspec": {
   "display_name": "Python 3",
   "language": "python",
   "name": "python3"
  },
  "language_info": {
   "codemirror_mode": {
    "name": "ipython",
    "version": 3
   },
   "file_extension": ".py",
   "mimetype": "text/x-python",
   "name": "python",
   "nbconvert_exporter": "python",
   "pygments_lexer": "ipython3",
   "version": "3.8.8"
  }
 },
 "nbformat": 4,
 "nbformat_minor": 2
}
