{
 "cells": [
  {
   "cell_type": "code",
   "execution_count": 1,
   "metadata": {},
   "outputs": [
    {
     "data": {
      "text/plain": [
       "27.21"
      ]
     },
     "execution_count": 1,
     "metadata": {},
     "output_type": "execute_result"
    }
   ],
   "source": [
    "\n",
    "import requests, json\n",
    " \n",
    "\n",
    "api_key = \"9adced7ddff5c6dc7f031455d3dec00e\"\n",
    " \n",
    "\n",
    "base_url = \"http://api.openweathermap.org/data/2.5/weather?\"\n",
    " \n",
    "\n",
    "city_name = input(\"Enter city name : \")\n",
    " \n",
    "\n",
    "complete_url = base_url + \"appid=\" + api_key + \"&q=\" + city_name + \"&units=metric\"\n",
    " \n",
    "\n",
    "response = requests.get(complete_url)\n",
    " \n",
    "x = response.json()\n",
    " \n",
    "x['main']['temp']"
   ]
  }
 ],
 "metadata": {
  "kernelspec": {
   "display_name": "Python 3",
   "language": "python",
   "name": "python3"
  },
  "language_info": {
   "codemirror_mode": {
    "name": "ipython",
    "version": 3
   },
   "file_extension": ".py",
   "mimetype": "text/x-python",
   "name": "python",
   "nbconvert_exporter": "python",
   "pygments_lexer": "ipython3",
   "version": "3.8.8"
  }
 },
 "nbformat": 4,
 "nbformat_minor": 2
}
